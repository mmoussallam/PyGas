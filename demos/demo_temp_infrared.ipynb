{
 "cells": [
  {
   "cell_type": "code",
   "execution_count": 2,
   "metadata": {
    "collapsed": false
   },
   "outputs": [],
   "source": [
    "import os, sys\n",
    "sys.path.append('../src')\n",
    "import pandas as pd\n",
    "%matploitlib inline\n",
    "import multigas_analysis_tools as multools\n",
    "\n",
    "# Replace with your local dir\n",
    "#inputfiledir = 'C:\\Users\\Manu\\workspace\\PyGas\\datas'\n",
    "inputfiledir = '/home/manu/workspace/PyGas/datas'\n",
    "\n",
    "filename= '09_February_Villarrica.xlsx'\n",
    "filepath = os.path.join(inputfiledir, filename)\n",
    "df = pd.ExcelFile(filepath).parse('Sheet1')\n",
    "multools.plot_acorr(df['Flux ton/day'], 500)"
   ]
  },
  {
   "cell_type": "code",
   "execution_count": 3,
   "metadata": {
    "collapsed": true
   },
   "outputs": [],
   "source": [
    "filename= '17_January_2016_Villarrica.xlsx'\n",
    "filepath = os.path.join(inputfiledir, filename)\n",
    "df = pd.ExcelFile(filepath).parse('Sheet1')\n",
    "multools.plot_acorr(df['Temp'].dropna(), 5000, newfig=True)"
   ]
  }
 ],
 "metadata": {
  "kernelspec": {
   "display_name": "Python 2",
   "language": "python",
   "name": "python2"
  },
  "language_info": {
   "codemirror_mode": {
    "name": "ipython",
    "version": 2
   },
   "file_extension": ".py",
   "mimetype": "text/x-python",
   "name": "python",
   "nbconvert_exporter": "python",
   "pygments_lexer": "ipython2",
   "version": "2.7.11"
  }
 },
 "nbformat": 4,
 "nbformat_minor": 0
}
